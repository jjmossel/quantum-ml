{
 "cells": [
  {
   "cell_type": "markdown",
   "metadata": {},
   "source": [
    "# Clustering on a Quantum Computer\n",
    "\n",
    "Clustering in the task of grouping a set of points in a space such that those whose coordinates are close together (according to some distance measure) belong to the same cluster. \n",
    "In general, clustering is an NP-Hard problem. Most popular clustering algorithms, like Lloyds Algorithm for K-Means, are efficient heuristic algorithms that don't try to find the best cluster, but rather converge quickly to a local optimum. \n",
    "\n",
    "A different approach to find good cluster assignment efficiently is by using a quantum computer, which we explore in this notebook. The approach we take is mainly educational, and will not necessarily generate an optimal solution. The aim is to illustrate how a quantum computer can approach a task like this by exploiting two core concepts of quantum computing:\n",
    "1. Superposition\n",
    "2. Entanglement\n",
    "of qubits. What is particularly nice about the clustering problem is that the qubits directly translate to cluster assignment and hence no additional translation step is necessary, as would be the case for example with the traveling salesman problem.\n",
    "The approach is loosely based on QAOA (Quantum Approximate Optimization Algorithm) as described in [Quantum Algorithms for Fixed Qubit Architectures](https://arxiv.org/pdf/1703.06199.pdf)."
   ]
  },
  {
   "cell_type": "code",
   "execution_count": 1,
   "metadata": {},
   "outputs": [],
   "source": [
    "import numpy as np\n",
    "import pandas as pd\n",
    "\n",
    "from qiskit import *\n",
    "from qiskit.circuit import Parameter\n",
    "from qiskit.visualization import plot_histogram\n",
    "from qiskit.tools.monitor import job_monitor\n",
    "\n",
    "from qm_utils import *\n",
    "\n",
    "import matplotlib.pyplot as plt\n",
    "%matplotlib inline"
   ]
  },
  {
   "cell_type": "markdown",
   "metadata": {},
   "source": [
    "## Clustering problem as an Ising model\n",
    "There is no unique definition of how to define clusters for $N$ coordinates in a $d-$dimensional space. (In this notebook we restrict ourselves without loss of generality two dimensions, although in practice the more interesting clustering problems are those of higher dimensional coordinates.) The definition of \"optimal cluster\" we use in this notebook is: the clustering assignment that minimizes intra-cluster distances while maximizing inter-cluster distances. For simplicitly we limit ourselves to the case where the data is split into 2 clusters; the general $N$-cluster case can be solved recursively. \n",
    "\n",
    "Given this definition of clusters we can easily map this to an Ising model:\n",
    "$H = \\sum_{i,j} J_{i,j} \\sigma_{i}^z \\sigma_{j}^z$ where the interaction strengths $J_{ij}$ between spins $i$ and $j$ are chosen to be proportional to the Euclidean distance between coordinates $i$ and $j$. The spins $\\sigma^z_j$ take values ${-1,1}$ representing the cluster assignment. The $2^N$ eigenstates of the Hamiltonian $H$ correspond to all the $2^N$ possible ways to cluster the $N$ coordinates. The energy is a measure for cluster goodness: the lower the energy, the better the cluster. Finding the eigenvector with lowest energy is an NP-hard problem, like with any other clustering methods."
   ]
  },
  {
   "cell_type": "code",
   "execution_count": 2,
   "metadata": {},
   "outputs": [],
   "source": [
    "coordinates = np.array([\n",
    "    (0.05, 0.0), (0.9, 0.5),\n",
    "    (1.2, 1.0), (2.7, 3.0),\n",
    "    (0.2, 0.8), (1.9, 2.9),\n",
    "    (1.1, 3.0), (2.1, 2.2),\n",
    "])\n",
    "coordinates_x, coordinates_y = coordinates.T\n",
    "N = len(coordinates)"
   ]
  },
  {
   "cell_type": "code",
   "execution_count": 3,
   "metadata": {},
   "outputs": [
    {
     "data": {
      "image/png": "[encoded data removed]",
      "text/plain": [
       "<Figure size 432x288 with 1 Axes>"
      ]
     },
     "metadata": {
      "needs_background": "light"
     },
     "output_type": "display_data"
    }
   ],
   "source": [
    "# Binary representation of the cluster. \n",
    "# The first bit tells whether the first coordinate belongs to cluster 0 or 1, etc.\n",
    "cluster = '11101000'\n",
    "colors = ['b' if int(x) else 'r' for x in cluster]\n",
    "\n",
    "fig, ax = plt.subplots()\n",
    "ax.scatter(coordinates_x, coordinates_y,c=colors);\n",
    "for i in range(0,N):\n",
    "    ax.annotate(str(i), (coordinates_x[i]+0.05, coordinates_y[i]))"
   ]
  },
  {
   "cell_type": "markdown",
   "metadata": {},
   "source": [
    "### Classical pre-computation\n",
    "As a preparation for the quantum algortihm we compute all pairwise distances, which requires only $O(N^2)$ computations. For coordinates that are very close together we want to enhance the probability that they end up in the same cluster. In other words, we want to entangle them in state very similar to $\\frac{1}{\\sqrt{2}}(|00\\rangle+|11\\rangle)$. For two particles very far appart we want to entangle them like $\\frac{1}{\\sqrt{2}}(|01\\rangle+|10\\rangle)$, which has the effect of forcing them to be in opposite clusters.\n",
    "\n",
    "To achieve this, we map distances to phases in the interval $[-1,1]$ so that we can lineary interpolate between $\\frac{1}{\\sqrt{2}}(|00\\rangle+|11\\rangle)$ and $\\frac{1}{\\sqrt{2}}(|01\\rangle+|10\\rangle)$. A zero phase would leave the qubits un-entangled. "
   ]
  },
  {
   "cell_type": "code",
   "execution_count": 4,
   "metadata": {},
   "outputs": [],
   "source": [
    "distances = np.zeros((N,N))\n",
    "for i in range(0,N):\n",
    "    for j in range(0,N):\n",
    "        distances[i][j] = np.linalg.norm(coordinates[i]-coordinates[j])\n",
    "max_distance = np.max(np.abs(distances))\n",
    "\n",
    "phases = 2.0*(distances/max_distance)-1.0"
   ]
  },
  {
   "cell_type": "markdown",
   "metadata": {},
   "source": [
    "### Exact solution\n",
    "When N is sufficiently small, we can solve the problem exactly by computing the eigenvectors of the $(2^N,2^N)$ matrix. \n",
    "\n",
    "This allows us to compute metrics which we normally cannot, to give us insights in what is happening under the hood of the quantum algorithm."
   ]
  },
  {
   "cell_type": "code",
   "execution_count": 5,
   "metadata": {},
   "outputs": [
    {
     "data": {
      "text/plain": [
       "'11101000'"
      ]
     },
     "execution_count": 5,
     "metadata": {},
     "output_type": "execute_result"
    }
   ],
   "source": [
    "H = Hzz(distances)\n",
    "energies, v = np.linalg.eigh(H)\n",
    "groundstate = v.T[np.argmin(energies)] #The groundstate(s) (lowest energy state) is the optimal cluster\n",
    "assert(energies[0]==v.T[0].dot(H).dot(v.T[0]))\n",
    "groundstate_bin = np.binary_repr(np.argmax(groundstate),width=N)[::-1]\n",
    "groundstate_bin"
   ]
  },
  {
   "cell_type": "code",
   "execution_count": 6,
   "metadata": {},
   "outputs": [
    {
     "data": {
      "text/html": [
       "<div>\n",
       "<style scoped>\n",
       "    .dataframe tbody tr th:only-of-type {\n",
       "        vertical-align: middle;\n",
       "    }\n",
       "\n",
       "    .dataframe tbody tr th {\n",
       "        vertical-align: top;\n",
       "    }\n",
       "\n",
       "    .dataframe thead th {\n",
       "        text-align: right;\n",
       "    }\n",
       "</style>\n",
       "<table border=\"1\" class=\"dataframe\">\n",
       "  <thead>\n",
       "    <tr style=\"text-align: right;\">\n",
       "      <th></th>\n",
       "      <th>state</th>\n",
       "      <th>energy</th>\n",
       "      <th>eq_state</th>\n",
       "      <th>bits</th>\n",
       "    </tr>\n",
       "  </thead>\n",
       "  <tbody>\n",
       "    <tr>\n",
       "      <th>0</th>\n",
       "      <td>23</td>\n",
       "      <td>-30.784391</td>\n",
       "      <td>23</td>\n",
       "      <td>11101000</td>\n",
       "    </tr>\n",
       "    <tr>\n",
       "      <th>1</th>\n",
       "      <td>232</td>\n",
       "      <td>-30.784391</td>\n",
       "      <td>23</td>\n",
       "      <td>00010111</td>\n",
       "    </tr>\n",
       "    <tr>\n",
       "      <th>2</th>\n",
       "      <td>19</td>\n",
       "      <td>-20.983451</td>\n",
       "      <td>19</td>\n",
       "      <td>11001000</td>\n",
       "    </tr>\n",
       "    <tr>\n",
       "      <th>3</th>\n",
       "      <td>236</td>\n",
       "      <td>-20.983451</td>\n",
       "      <td>19</td>\n",
       "      <td>00110111</td>\n",
       "    </tr>\n",
       "    <tr>\n",
       "      <th>4</th>\n",
       "      <td>104</td>\n",
       "      <td>-18.905612</td>\n",
       "      <td>104</td>\n",
       "      <td>00010110</td>\n",
       "    </tr>\n",
       "  </tbody>\n",
       "</table>\n",
       "</div>"
      ],
      "text/plain": [
       "   state     energy  eq_state      bits\n",
       "0     23 -30.784391        23  11101000\n",
       "1    232 -30.784391        23  00010111\n",
       "2     19 -20.983451        19  11001000\n",
       "3    236 -20.983451        19  00110111\n",
       "4    104 -18.905612       104  00010110"
      ]
     },
     "execution_count": 6,
     "metadata": {},
     "output_type": "execute_result"
    }
   ],
   "source": [
    "info = pd.DataFrame.from_dict({'state':np.argmax(v,axis=0),'energy':energies})\n",
    "info['eq_state'] = info['state'].apply(lambda x: min(2**N-1-x,x))\n",
    "info['bits'] = info['state'].apply(lambda x: np.binary_repr(x,N)[::-1])\n",
    "info.head()"
   ]
  },
  {
   "cell_type": "markdown",
   "metadata": {},
   "source": [
    "## Quantum Approximate Optimization Algorithm"
   ]
  },
  {
   "cell_type": "markdown",
   "metadata": {},
   "source": [
    "### Entanglement sub-circuit\n",
    "To control the entanglement between two qubits we can use the following unitary gate\n",
    "$U_{jk}(\\phi_x,\\phi_z)=e^{-i \\phi_x \\sigma_{k}} e^{-i \\phi_z \\sigma_{j}\\sigma_{k}}$. \n",
    "See below how this translates to quantum gates."
   ]
  },
  {
   "cell_type": "code",
   "execution_count": 7,
   "metadata": {},
   "outputs": [
    {
     "data": {
      "image/png": "[encoded data removed]",
      "text/plain": [
       "<Figure size 818.72x144.48 with 1 Axes>"
      ]
     },
     "execution_count": 7,
     "metadata": {},
     "output_type": "execute_result"
    }
   ],
   "source": [
    "qc_zz_x = QuantumCircuit(2,name='zz_x')\n",
    "\n",
    "phi_x = Parameter('phi_x')\n",
    "phi_z = Parameter('phi_z')\n",
    "\n",
    "qc_zz_x.x(1)\n",
    "qc_zz_x.u1(phi_z/2,1)\n",
    "qc_zz_x.x(1)\n",
    "qc_zz_x.u1(phi_z/2,1)\n",
    "\n",
    "qc_zz_x.cx(1,0)\n",
    "\n",
    "qc_zz_x.x(0)\n",
    "qc_zz_x.u1(phi_z/2,0)\n",
    "qc_zz_x.x(0)\n",
    "qc_zz_x.u1(-1*phi_z/2,0)\n",
    "\n",
    "qc_zz_x.cx(1,0)\n",
    "qc_zz_x.rx(phi_x,0)\n",
    "\n",
    "qc_zz_x.draw(output='mpl')"
   ]
  },
  {
   "cell_type": "markdown",
   "metadata": {},
   "source": [
    "#### Example how to control the entanglement\n",
    "By changing $\\phi_x$, $\\phi_z$, we can control the ammount and type of entanglement between two qubits."
   ]
  },
  {
   "cell_type": "code",
   "execution_count": 8,
   "metadata": {},
   "outputs": [
    {
     "data": {
      "image/png": "[encoded data removed]",
      "text/plain": [
       "<Figure size 504x360 with 1 Axes>"
      ]
     },
     "execution_count": 8,
     "metadata": {},
     "output_type": "execute_result"
    }
   ],
   "source": [
    "qc_ent = QuantumCircuit(2,2)\n",
    "qc_ent.h(0)\n",
    "qc_ent.h(1)\n",
    "phi_0 = 0.3*np.pi\n",
    "params_0 = { phi_x : phi_0, phi_z : -2.0*phi_0 }\n",
    "\n",
    "qc_ent.append(qc_zz_x.bind_parameters(params_0).to_instruction(),[0,1])\n",
    "qc_ent.measure([0,1],[0,1])\n",
    "\n",
    "backend_sim = Aer.get_backend('qasm_simulator')\n",
    "result_ent = execute(qc_ent,backend=backend_sim,shots=4092).result()\n",
    "counts_ent = result_ent.get_counts(qc_ent)\n",
    "plot_histogram(counts_ent)"
   ]
  },
  {
   "cell_type": "markdown",
   "metadata": {},
   "source": [
    "### Complete Quantum Circuit\n",
    "\n",
    "1. Initialize the system in a uniform superposition\n",
    "2. Create first layer of entanglement. Based on pre-computed phases.\n",
    "3. Second layer of entanglement\n",
    "\n",
    "We could add more layers to supply even more information to the system and get better solutions."
   ]
  },
  {
   "cell_type": "code",
   "execution_count": 9,
   "metadata": {},
   "outputs": [
    {
     "data": {
      "image/png": "[encoded data removed]",
      "text/plain": [
       "<Figure size 829.556x565.88 with 1 Axes>"
      ]
     },
     "execution_count": 9,
     "metadata": {},
     "output_type": "execute_result"
    }
   ],
   "source": [
    "qr = QuantumRegister(N)\n",
    "cr = ClassicalRegister(N)\n",
    "qc = QuantumCircuit(qr,cr)\n",
    "\n",
    "#create uniform superposition\n",
    "for i in range(0,N):\n",
    "    qc.h(qr[i])\n",
    "\n",
    "#first layer of entanglement\n",
    "for i in range(0,N,2):\n",
    "    params_1 = {\n",
    "        phi_x : 0.3*np.pi,\n",
    "        phi_z : 0.6*np.pi*phases[i][i+1],\n",
    "    }\n",
    "    layer1 = qc_zz_x.bind_parameters(params_1)\n",
    "    qc.append(layer1.to_instruction(),qr[i:i+2])\n",
    "\n",
    "#second layer of entanglement\n",
    "for i in range(1,N,2):\n",
    "    params_2 = {\n",
    "        phi_x : 0.3*np.pi,\n",
    "        phi_z : 0.6*np.pi*phases[i%N][(i+1)%N],\n",
    "    }\n",
    "    layer2 = qc_zz_x.bind_parameters(params_2)\n",
    "    qc.append(layer2.to_instruction(),[qr[i%N],qr[(i+1)%N]])\n",
    "\n",
    "qc.draw(output='mpl')"
   ]
  },
  {
   "cell_type": "markdown",
   "metadata": {},
   "source": [
    "## A Look Under the Hood\n",
    "The get a feel for what is going on we use QISKit to compute the exact state vector, i.e. the quantum mechanical state just before we do a measurement. In a real computation on quantum hardware we cannot do this of course, since that would cause the states to collapse."
   ]
  },
  {
   "cell_type": "code",
   "execution_count": 10,
   "metadata": {},
   "outputs": [],
   "source": [
    "backend = BasicAer.get_backend('statevector_simulator')\n",
    "job = execute(qc, backend)\n",
    "state = job.result().get_statevector(qc)"
   ]
  },
  {
   "cell_type": "code",
   "execution_count": 11,
   "metadata": {},
   "outputs": [],
   "source": [
    "amps = []\n",
    "\n",
    "for e,x in zip(energies,v.T):\n",
    "    overlap = x.dot(state[::-1])\n",
    "    amp = (overlap.conj()*overlap).real\n",
    "    amps.append({'energy':e,'amplitude':amp})\n",
    "                   \n",
    "amps_df = pd.DataFrame(amps)            "
   ]
  },
  {
   "cell_type": "code",
   "execution_count": 12,
   "metadata": {},
   "outputs": [
    {
     "data": {
      "image/png": "[encoded data removed]",
      "text/plain": [
       "<Figure size 432x288 with 1 Axes>"
      ]
     },
     "metadata": {
      "needs_background": "light"
     },
     "output_type": "display_data"
    }
   ],
   "source": [
    "amplitudes = (state.conj()*state).real\n",
    "info_amp = info.merge(pd.DataFrame.from_dict({'state':list(range(0,2**N)),'amplitude':amplitudes}))\n",
    "info_amp_agg = info_amp.groupby(['energy'],as_index=False)['amplitude'].sum().sort_values('energy')\n",
    "plt.bar(list(range(0,2**(N-1))),info_amp_agg['amplitude'],width=1.0)\n",
    "plt.ylim(0,0.12);\n",
    "plt.xticks([],[]);\n",
    "plt.xlabel('Energy');\n",
    "plt.ylabel('Probablity');\n",
    "ypos, ylabels = plt.yticks();\n",
    "plt.yticks(ypos, [\"{:.0%}\".format(y) for y in ypos]);"
   ]
  },
  {
   "cell_type": "code",
   "execution_count": 13,
   "metadata": {},
   "outputs": [
    {
     "data": {
      "image/png": "[encoded data removed]",
      "text/plain": [
       "<Figure size 432x288 with 1 Axes>"
      ]
     },
     "metadata": {
      "needs_background": "light"
     },
     "output_type": "display_data"
    }
   ],
   "source": [
    "rho = density_matrix(state)\n",
    "entent = [entanglement_entropy(rho,N-n_left,n_left)/max_entanglement_entropy(min(N-n_left,n_left))\n",
    "          for n_left in range(1,N)]\n",
    "plt.bar(list(range(0,N-1)),entent);\n",
    "plt.ylim(0,1.0);\n",
    "ypos, ylabels = plt.yticks();\n",
    "plt.yticks(ypos, [\"{:.0%}\".format(y) for y in ypos]);\n",
    "plt.ylabel('Entanglement');\n",
    "plt.xlabel('Position');"
   ]
  },
  {
   "cell_type": "markdown",
   "metadata": {},
   "source": [
    "## Simulate an Experiment\n",
    "Before running it on an actual quantum computer, we run a simulation, by performing \"measurement\" repeatedly.\n",
    "To obtain the same type of information as we can get from a quantum computer."
   ]
  },
  {
   "cell_type": "code",
   "execution_count": 14,
   "metadata": {},
   "outputs": [
    {
     "data": {
      "text/plain": [
       "<qiskit.circuit.instructionset.InstructionSet at 0x1a2331d860>"
      ]
     },
     "execution_count": 14,
     "metadata": {},
     "output_type": "execute_result"
    }
   ],
   "source": [
    "qc_exp = qc.copy()\n",
    "qc_exp.measure(qr,cr)"
   ]
  },
  {
   "cell_type": "code",
   "execution_count": 15,
   "metadata": {},
   "outputs": [
    {
     "data": {
      "text/html": [
       "<div>\n",
       "<style scoped>\n",
       "    .dataframe tbody tr th:only-of-type {\n",
       "        vertical-align: middle;\n",
       "    }\n",
       "\n",
       "    .dataframe tbody tr th {\n",
       "        vertical-align: top;\n",
       "    }\n",
       "\n",
       "    .dataframe thead th {\n",
       "        text-align: right;\n",
       "    }\n",
       "</style>\n",
       "<table border=\"1\" class=\"dataframe\">\n",
       "  <thead>\n",
       "    <tr style=\"text-align: right;\">\n",
       "      <th></th>\n",
       "      <th>state</th>\n",
       "      <th>count</th>\n",
       "    </tr>\n",
       "  </thead>\n",
       "  <tbody>\n",
       "    <tr>\n",
       "      <th>26</th>\n",
       "      <td>11101000</td>\n",
       "      <td>271</td>\n",
       "    </tr>\n",
       "    <tr>\n",
       "      <th>55</th>\n",
       "      <td>00010111</td>\n",
       "      <td>242</td>\n",
       "    </tr>\n",
       "    <tr>\n",
       "      <th>29</th>\n",
       "      <td>00001111</td>\n",
       "      <td>115</td>\n",
       "    </tr>\n",
       "    <tr>\n",
       "      <th>88</th>\n",
       "      <td>01101111</td>\n",
       "      <td>100</td>\n",
       "    </tr>\n",
       "    <tr>\n",
       "      <th>83</th>\n",
       "      <td>11110000</td>\n",
       "      <td>98</td>\n",
       "    </tr>\n",
       "    <tr>\n",
       "      <th>10</th>\n",
       "      <td>00010011</td>\n",
       "      <td>95</td>\n",
       "    </tr>\n",
       "    <tr>\n",
       "      <th>9</th>\n",
       "      <td>00010000</td>\n",
       "      <td>93</td>\n",
       "    </tr>\n",
       "    <tr>\n",
       "      <th>121</th>\n",
       "      <td>00010001</td>\n",
       "      <td>92</td>\n",
       "    </tr>\n",
       "    <tr>\n",
       "      <th>118</th>\n",
       "      <td>11101100</td>\n",
       "      <td>90</td>\n",
       "    </tr>\n",
       "    <tr>\n",
       "      <th>116</th>\n",
       "      <td>00001011</td>\n",
       "      <td>87</td>\n",
       "    </tr>\n",
       "  </tbody>\n",
       "</table>\n",
       "</div>"
      ],
      "text/plain": [
       "        state  count\n",
       "26   11101000    271\n",
       "55   00010111    242\n",
       "29   00001111    115\n",
       "88   01101111    100\n",
       "83   11110000     98\n",
       "10   00010011     95\n",
       "9    00010000     93\n",
       "121  00010001     92\n",
       "118  11101100     90\n",
       "116  00001011     87"
      ]
     },
     "execution_count": 15,
     "metadata": {},
     "output_type": "execute_result"
    }
   ],
   "source": [
    "backend_sim = Aer.get_backend('qasm_simulator')\n",
    "result_sim = execute(qc_exp,backend=backend_sim,shots=4092).result()\n",
    "counts = result_sim.get_counts(qc_exp)\n",
    "count_df = pd.DataFrame.from_dict({'state':list(counts.keys()),'count':list(counts.values())})\n",
    "count_df.sort_values('count',ascending=False).head(10)"
   ]
  },
  {
   "cell_type": "markdown",
   "metadata": {},
   "source": [
    "## Run it on an actual quantum computer\n",
    "A QISKIT account is required which can be obtained for free from the [IBM Q Experience](https://quantum-computing.ibm.com/). On the same website you can also see the availability of the various quantum computers."
   ]
  },
  {
   "cell_type": "code",
   "execution_count": 16,
   "metadata": {},
   "outputs": [],
   "source": [
    "IBMQ.load_account()\n",
    "provider = IBMQ.get_provider('ibm-q')\n",
    "qcomp = provider.get_backend('ibmq_16_melbourne')"
   ]
  },
  {
   "cell_type": "code",
   "execution_count": 17,
   "metadata": {},
   "outputs": [
    {
     "name": "stdout",
     "output_type": "stream",
     "text": [
      "Job Status: job has successfully run\n"
     ]
    }
   ],
   "source": [
    "job_exp = execute(qc_exp, backend=qcomp,shots=4092)\n",
    "job_monitor(job_exp)"
   ]
  },
  {
   "cell_type": "code",
   "execution_count": 18,
   "metadata": {},
   "outputs": [],
   "source": [
    "result_exp = job_exp.result()\n",
    "counts_exp = result_exp.get_counts(qc_exp)\n",
    "bit_counts = {'bits':[str(x)for x in list(counts_exp.keys())],'count':list(counts_exp.values())}\n",
    "count_exp_df = pd.DataFrame.from_dict(bit_counts)"
   ]
  },
  {
   "cell_type": "code",
   "execution_count": 19,
   "metadata": {},
   "outputs": [
    {
     "data": {
      "text/html": [
       "<div>\n",
       "<style scoped>\n",
       "    .dataframe tbody tr th:only-of-type {\n",
       "        vertical-align: middle;\n",
       "    }\n",
       "\n",
       "    .dataframe tbody tr th {\n",
       "        vertical-align: top;\n",
       "    }\n",
       "\n",
       "    .dataframe thead th {\n",
       "        text-align: right;\n",
       "    }\n",
       "</style>\n",
       "<table border=\"1\" class=\"dataframe\">\n",
       "  <thead>\n",
       "    <tr style=\"text-align: right;\">\n",
       "      <th></th>\n",
       "      <th>state</th>\n",
       "      <th>energy</th>\n",
       "      <th>eq_state</th>\n",
       "      <th>bits</th>\n",
       "      <th>amplitude</th>\n",
       "      <th>count</th>\n",
       "      <th>amp_exp</th>\n",
       "    </tr>\n",
       "  </thead>\n",
       "  <tbody>\n",
       "    <tr>\n",
       "      <th>188</th>\n",
       "      <td>136</td>\n",
       "      <td>2.050763</td>\n",
       "      <td>119</td>\n",
       "      <td>00010001</td>\n",
       "      <td>0.017890</td>\n",
       "      <td>112</td>\n",
       "      <td>0.027370</td>\n",
       "    </tr>\n",
       "    <tr>\n",
       "      <th>240</th>\n",
       "      <td>8</td>\n",
       "      <td>21.964085</td>\n",
       "      <td>8</td>\n",
       "      <td>00010000</td>\n",
       "      <td>0.016575</td>\n",
       "      <td>63</td>\n",
       "      <td>0.015396</td>\n",
       "    </tr>\n",
       "    <tr>\n",
       "      <th>17</th>\n",
       "      <td>200</td>\n",
       "      <td>-13.932242</td>\n",
       "      <td>55</td>\n",
       "      <td>00010011</td>\n",
       "      <td>0.000180</td>\n",
       "      <td>63</td>\n",
       "      <td>0.015396</td>\n",
       "    </tr>\n",
       "    <tr>\n",
       "      <th>182</th>\n",
       "      <td>148</td>\n",
       "      <td>1.172663</td>\n",
       "      <td>107</td>\n",
       "      <td>00101001</td>\n",
       "      <td>0.016313</td>\n",
       "      <td>61</td>\n",
       "      <td>0.014907</td>\n",
       "    </tr>\n",
       "    <tr>\n",
       "      <th>192</th>\n",
       "      <td>9</td>\n",
       "      <td>4.070851</td>\n",
       "      <td>9</td>\n",
       "      <td>10010000</td>\n",
       "      <td>0.017244</td>\n",
       "      <td>58</td>\n",
       "      <td>0.014174</td>\n",
       "    </tr>\n",
       "    <tr>\n",
       "      <th>228</th>\n",
       "      <td>144</td>\n",
       "      <td>13.401884</td>\n",
       "      <td>111</td>\n",
       "      <td>00001001</td>\n",
       "      <td>0.021913</td>\n",
       "      <td>55</td>\n",
       "      <td>0.013441</td>\n",
       "    </tr>\n",
       "    <tr>\n",
       "      <th>79</th>\n",
       "      <td>73</td>\n",
       "      <td>-4.320881</td>\n",
       "      <td>73</td>\n",
       "      <td>10010010</td>\n",
       "      <td>0.000047</td>\n",
       "      <td>50</td>\n",
       "      <td>0.012219</td>\n",
       "    </tr>\n",
       "    <tr>\n",
       "      <th>1</th>\n",
       "      <td>232</td>\n",
       "      <td>-30.784391</td>\n",
       "      <td>23</td>\n",
       "      <td>00010111</td>\n",
       "      <td>0.058768</td>\n",
       "      <td>48</td>\n",
       "      <td>0.011730</td>\n",
       "    </tr>\n",
       "    <tr>\n",
       "      <th>250</th>\n",
       "      <td>128</td>\n",
       "      <td>30.690337</td>\n",
       "      <td>127</td>\n",
       "      <td>00000001</td>\n",
       "      <td>0.000294</td>\n",
       "      <td>45</td>\n",
       "      <td>0.010997</td>\n",
       "    </tr>\n",
       "    <tr>\n",
       "      <th>7</th>\n",
       "      <td>168</td>\n",
       "      <td>-18.026289</td>\n",
       "      <td>87</td>\n",
       "      <td>00010101</td>\n",
       "      <td>0.012954</td>\n",
       "      <td>44</td>\n",
       "      <td>0.010753</td>\n",
       "    </tr>\n",
       "  </tbody>\n",
       "</table>\n",
       "</div>"
      ],
      "text/plain": [
       "     state     energy  eq_state      bits  amplitude  count   amp_exp\n",
       "188    136   2.050763       119  00010001   0.017890    112  0.027370\n",
       "240      8  21.964085         8  00010000   0.016575     63  0.015396\n",
       "17     200 -13.932242        55  00010011   0.000180     63  0.015396\n",
       "182    148   1.172663       107  00101001   0.016313     61  0.014907\n",
       "192      9   4.070851         9  10010000   0.017244     58  0.014174\n",
       "228    144  13.401884       111  00001001   0.021913     55  0.013441\n",
       "79      73  -4.320881        73  10010010   0.000047     50  0.012219\n",
       "1      232 -30.784391        23  00010111   0.058768     48  0.011730\n",
       "250    128  30.690337       127  00000001   0.000294     45  0.010997\n",
       "7      168 -18.026289        87  00010101   0.012954     44  0.010753"
      ]
     },
     "execution_count": 19,
     "metadata": {},
     "output_type": "execute_result"
    }
   ],
   "source": [
    "info_amp_exp = info_amp.merge(count_exp_df,how='left').sort_values('count',ascending=False)\n",
    "info_amp_exp['amp_exp']=info_amp_exp['count']/info_amp_exp['count'].sum()\n",
    "info_amp_exp.head(10)"
   ]
  },
  {
   "cell_type": "code",
   "execution_count": 24,
   "metadata": {},
   "outputs": [
    {
     "data": {
      "image/png": "[encoded data removed]",
      "text/plain": [
       "<Figure size 432x288 with 1 Axes>"
      ]
     },
     "metadata": {
      "needs_background": "light"
     },
     "output_type": "display_data"
    }
   ],
   "source": [
    "info_amp_exp_agg = info_amp_exp.groupby('eq_state',as_index=False).agg(\n",
    "    {'energy':'mean','amplitude':'sum','amp_exp':'sum'})\n",
    "info_amp_exp_agg = info_amp_exp_agg.sort_values('energy')\n",
    "\n",
    "correlation = np.corrcoef(info_amp_exp_agg['amplitude'],info_amp_exp_agg['amp_exp'])[0][1]\n",
    "\n",
    "plt.bar(list(range(0,len(info_amp_exp_agg))),info_amp_exp_agg['amplitude'],label='simulation',width=1.0)\n",
    "plt.bar(list(range(0,len(info_amp_exp_agg))),info_amp_exp_agg['amp_exp'],label='experiment',width=1.0)\n",
    "plt.legend()\n",
    "plt.ylim(0,0.12);\n",
    "plt.xticks([],[]);\n",
    "plt.xlabel('Energy');\n",
    "plt.ylabel('Probablity');\n",
    "ypos, ylabels = plt.yticks();\n",
    "plt.yticks(ypos, [\"{:.0%}\".format(y) for y in ypos]);\n",
    "plt.title('Correlation: {:.0%}'.format(correlation));"
   ]
  },
  {
   "cell_type": "code",
   "execution_count": null,
   "metadata": {},
   "outputs": [],
   "source": []
  }
 ],
 "metadata": {
  "kernelspec": {
   "display_name": "Python 3",
   "language": "python",
   "name": "python3"
  },
  "language_info": {
   "codemirror_mode": {
    "name": "ipython",
    "version": 3
   },
   "file_extension": ".py",
   "mimetype": "text/x-python",
   "name": "python",
   "nbconvert_exporter": "python",
   "pygments_lexer": "ipython3",
   "version": "3.7.3"
  }
 },
 "nbformat": 4,
 "nbformat_minor": 2
}
